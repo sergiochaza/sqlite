{
  "nbformat": 4,
  "nbformat_minor": 0,
  "metadata": {
    "colab": {
      "provenance": [],
      "mount_file_id": "1_dT1YPk8Pucf9MIGE9aS6pVUe7a_k1UI",
      "authorship_tag": "ABX9TyMjtWxKSXumXL8Q3EbBQNci",
      "include_colab_link": true
    },
    "kernelspec": {
      "name": "python3",
      "display_name": "Python 3"
    },
    "language_info": {
      "name": "python"
    }
  },
  "cells": [
    {
      "cell_type": "markdown",
      "metadata": {
        "id": "view-in-github",
        "colab_type": "text"
      },
      "source": [
        "<a href=\"https://colab.research.google.com/github/sergiochaza/sqlite/blob/main/sql_coder_house.ipynb\" target=\"_parent\"><img src=\"https://colab.research.google.com/assets/colab-badge.svg\" alt=\"Open In Colab\"/></a>"
      ]
    },
    {
      "cell_type": "code",
      "execution_count": 1,
      "metadata": {
        "id": "DiB9HbWwdIBc"
      },
      "outputs": [],
      "source": [
        "import pandas as pd\n",
        "import sqlite3\n"
      ]
    },
    {
      "cell_type": "code",
      "source": [
        "#Funciones ya cargadas para un futuro, conexion a la base de datos\n",
        "def execute_query(connection, query):\n",
        "    cursor = connection.cursor()\n",
        "    try:\n",
        "        cursor.execute(query)\n",
        "        connection.commit()\n",
        "        print(\"Query executed successfully\")\n",
        "    except sqlite3.Error as e:\n",
        "        print(f\"The error '{e}' occurred\")"
      ],
      "metadata": {
        "id": "Px6OT4b_rnnA"
      },
      "execution_count": 2,
      "outputs": []
    },
    {
      "cell_type": "code",
      "source": [
        "#Ejemplo con Base David\n",
        "ruta = \"/content/Clase 3 - Redes.sqlite\" #Ruta, path es lo mismo\n",
        "sql = sqlite3.connect(ruta)\n",
        "cursor = sql.cursor() #Cursor es el objeto que majena las consultas dentro del motor de base de datos"
      ],
      "metadata": {
        "id": "ZQOMxldWsrwx"
      },
      "execution_count": 3,
      "outputs": []
    },
    {
      "cell_type": "code",
      "source": [
        "#Explorar la base de datos\n",
        "cursor.execute(\"SELECT name FROM sqlite_master WHERE type='table';\")\n",
        "print(cursor.fetchall())\n",
        "#sqlite_master es para mostrar la base de datos"
      ],
      "metadata": {
        "colab": {
          "base_uri": "https://localhost:8080/"
        },
        "id": "fnepCovKsDLY",
        "outputId": "8938ece6-bf34-476a-c3e0-82d0c652baf9"
      },
      "execution_count": 4,
      "outputs": [
        {
          "output_type": "stream",
          "name": "stdout",
          "text": [
            "[('users',), ('sqlite_sequence',), ('posts',), ('comments',), ('likes',)]\n"
          ]
        }
      ]
    },
    {
      "cell_type": "markdown",
      "source": [
        "# CREATE (CREACIÓN DE TABLAS)"
      ],
      "metadata": {
        "id": "pe2rfssR-hts"
      }
    },
    {
      "cell_type": "code",
      "source": [
        "#CREAMOS UNA NUEVA TABLA \"usuarios\"\n",
        "crear_tabla_usuarios = \"\"\"\n",
        "CREATE TABLE usuarios (\n",
        "    id_usuario INTEGER PRIMARY KEY AUTOINCREMENT,\n",
        "    name TEXT NOT NULL,\n",
        "    email TEXT NOT NULL UNIQUE,\n",
        "    age INTEGER NOT NULL,\n",
        "    gender TEXT,\n",
        "    nacionality TEXT NOT NULl\n",
        ");\n",
        "\"\"\"\n",
        "execute_query(sql,crear_tabla_usuarios)"
      ],
      "metadata": {
        "colab": {
          "base_uri": "https://localhost:8080/"
        },
        "id": "CxgGIaSx-sUN",
        "outputId": "9e5985e8-47d5-44d2-ebdc-afe704448b53"
      },
      "execution_count": 6,
      "outputs": [
        {
          "output_type": "stream",
          "name": "stdout",
          "text": [
            "Query executed successfully\n"
          ]
        }
      ]
    },
    {
      "cell_type": "code",
      "source": [
        "create_table_post = \"\"\"\n",
        "CREATE TABLE posteos (\n",
        "    id_posteo INTEGER PRIMARY KEY AUTOINCREMENT,\n",
        "    title TEXT NOT NULL,\n",
        "    description TEXT NOT NULL,\n",
        "    id_usuario INTEGER NOT NULL,\n",
        "    FOREIGN KEY (id_usuario) REFERENCES usuarios (id_usuario)\n",
        ");\n",
        "\"\"\"\n",
        "#Exite relacion de uno a muchos entre los usuarios y las publicaciones,\n",
        "#la clave extera id_usuario en la tabla de publicaciones que hacer referencia,\n",
        "#a la columna de identificación en la tabla de usuarios\n",
        "execute_query(sql,create_table_post)"
      ],
      "metadata": {
        "colab": {
          "base_uri": "https://localhost:8080/"
        },
        "id": "mNJQGn6W_eld",
        "outputId": "3141b150-c4f7-471b-f582-313cfdab6ea3"
      },
      "execution_count": 7,
      "outputs": [
        {
          "output_type": "stream",
          "name": "stdout",
          "text": [
            "Query executed successfully\n"
          ]
        }
      ]
    },
    {
      "cell_type": "code",
      "source": [
        "crear_tabla_comentarios = \"\"\"\n",
        "CREATE TABLE comentarios (\n",
        "    id_comentario INTEGER PRIMARY KEY AUTOINCREMENT,\n",
        "    text TEXT NOT NULL,\n",
        "    id_posteo INTEGER NOT NULL,\n",
        "    id_usuario INTEGER NOT NULL,\n",
        "    FOREIGN KEY (id_usuario) REFERENCES usuraio (id_usuario) FOREIGN KEY (id_posteo) REFERENCES posteos (id_posteo)\n",
        ");\n",
        "\"\"\"\n",
        "execute_query(sql,crear_tabla_comentarios)"
      ],
      "metadata": {
        "colab": {
          "base_uri": "https://localhost:8080/"
        },
        "id": "PJy3_gr8AII-",
        "outputId": "68a384f2-c514-4000-ac79-0e89fa18a9de"
      },
      "execution_count": 8,
      "outputs": [
        {
          "output_type": "stream",
          "name": "stdout",
          "text": [
            "Query executed successfully\n"
          ]
        }
      ]
    },
    {
      "cell_type": "code",
      "source": [
        "crear_tabla_gustos = \"\"\"\n",
        "CREATE TABLE IF NOT EXISTS gustos (\n",
        "    id_gusto INTEGER PRIMARY KEY AUTOINCREMENT,\n",
        "    id_usuario INTEGER NOT NULL,\n",
        "    id_posteo INTEGER NOT NULL,\n",
        "    FOREIGN KEY (id_usuario) REFERENCES usuarios (id_usuario) FOREIGN KEY (id_posteo) REFERENCES posteos (id_posteo)\n",
        ");\n",
        "\"\"\"\n",
        "execute_query(sql,crear_tabla_gustos)"
      ],
      "metadata": {
        "colab": {
          "base_uri": "https://localhost:8080/"
        },
        "id": "LvQqt9z-Bmw1",
        "outputId": "d83c6a0a-bd76-476b-9ef3-2018fcd68772"
      },
      "execution_count": 9,
      "outputs": [
        {
          "output_type": "stream",
          "name": "stdout",
          "text": [
            "Query executed successfully\n"
          ]
        }
      ]
    },
    {
      "cell_type": "code",
      "source": [
        "cursor.execute(\"SELECT name FROM sqlite_master WHERE type='table';\")\n",
        "print(cursor.fetchall())"
      ],
      "metadata": {
        "colab": {
          "base_uri": "https://localhost:8080/"
        },
        "id": "pDLPhVSCCqsa",
        "outputId": "926af41e-4434-4e8f-c261-65a04f000059"
      },
      "execution_count": 10,
      "outputs": [
        {
          "output_type": "stream",
          "name": "stdout",
          "text": [
            "[('users',), ('sqlite_sequence',), ('posts',), ('comments',), ('likes',), ('usuarios',), ('posteos',), ('comentarios',), ('gustos',)]\n"
          ]
        }
      ]
    },
    {
      "cell_type": "markdown",
      "source": [
        "# ALTER (Modificar Tabla)"
      ],
      "metadata": {
        "id": "sIUu2d8fC4E6"
      }
    },
    {
      "cell_type": "code",
      "source": [
        "#Modificar la tabla\n",
        "modificar_tabla_usuarios = \"\"\"\n",
        "ALTER TABLE 'usuarios'\n",
        "RENAME COLUMN 'name' to 'nombres';\n",
        "\"\"\"\n",
        "execute_query(sql,modificar_tabla_usuarios)"
      ],
      "metadata": {
        "colab": {
          "base_uri": "https://localhost:8080/"
        },
        "id": "-IMUKfPmC3La",
        "outputId": "b7625112-8618-495a-c8e3-2d4188cedef6"
      },
      "execution_count": 11,
      "outputs": [
        {
          "output_type": "stream",
          "name": "stdout",
          "text": [
            "Query executed successfully\n"
          ]
        }
      ]
    },
    {
      "cell_type": "code",
      "source": [
        "#Pragma_table muestra los atributos\n",
        "cursor.execute(\"SELECT * FROM pragma_table_info('Usuarios');\")\n",
        "print(cursor.fetchall())"
      ],
      "metadata": {
        "colab": {
          "base_uri": "https://localhost:8080/"
        },
        "id": "UQGEl_0yDbxK",
        "outputId": "f12ef817-1e25-4b42-eae5-73f102449f29"
      },
      "execution_count": 12,
      "outputs": [
        {
          "output_type": "stream",
          "name": "stdout",
          "text": [
            "[(0, 'id_usuario', 'INTEGER', 0, None, 1), (1, 'nombres', 'TEXT', 1, None, 0), (2, 'email', 'TEXT', 1, None, 0), (3, 'age', 'INTEGER', 1, None, 0), (4, 'gender', 'TEXT', 0, None, 0), (5, 'nacionality', 'TEXT', 1, None, 0)]\n"
          ]
        }
      ]
    },
    {
      "cell_type": "code",
      "source": [
        "#Agregar Columna\n",
        "agregar_columnas_usuarios = \"\"\"\n",
        "ALTER TABLE 'usuarios'\n",
        "ADD COLUMN 'apellidos' TEXT;\n",
        "\"\"\"\n",
        "execute_query(sql,agregar_columnas_usuarios)"
      ],
      "metadata": {
        "colab": {
          "base_uri": "https://localhost:8080/"
        },
        "id": "RTij7TBODq7u",
        "outputId": "99ae4ff4-9892-4785-82ca-4a7efb786d06"
      },
      "execution_count": 13,
      "outputs": [
        {
          "output_type": "stream",
          "name": "stdout",
          "text": [
            "Query executed successfully\n"
          ]
        }
      ]
    },
    {
      "cell_type": "markdown",
      "source": [
        "#INSERTAR DATOS\n"
      ],
      "metadata": {
        "id": "N9zwbNp4E_bZ"
      }
    },
    {
      "cell_type": "code",
      "source": [
        "crear_usuarios = \"\"\"\n",
        "INSERT INTO usuarios (nombres,email, age, gender, nacionality)\n",
        "VALUES\n",
        "  ('James','f@gmail.com', 25, 'hombre', 'USA'),\n",
        "  ('Leila','a@gmail.com', 32, 'mujer', 'France'),\n",
        "  ('Brigitte','j@gmail.com', 35, 'mujer', 'England'),\n",
        "  ('Mike','c@gmail.com', 40, 'hombre', 'Denmark'),\n",
        "  ('Elizabeth','e@gmail.com', 21, 'mujer', 'Canada');\n",
        "  \"\"\"\n",
        "execute_query(sql,crear_usuarios)"
      ],
      "metadata": {
        "colab": {
          "base_uri": "https://localhost:8080/"
        },
        "id": "5DHdaDOBEyWp",
        "outputId": "b7305260-dfc6-4f50-97c4-c1ea6a14118e"
      },
      "execution_count": 14,
      "outputs": [
        {
          "output_type": "stream",
          "name": "stdout",
          "text": [
            "Query executed successfully\n"
          ]
        }
      ]
    },
    {
      "cell_type": "code",
      "source": [
        "query = \"select * from usuarios\"\n",
        "cursor.execute(query)\n",
        "print(cursor.fetchall())\n"
      ],
      "metadata": {
        "colab": {
          "base_uri": "https://localhost:8080/"
        },
        "id": "FNLkhPTmGU6L",
        "outputId": "820e9d1d-6c89-4930-a88c-dd040418edee"
      },
      "execution_count": 15,
      "outputs": [
        {
          "output_type": "stream",
          "name": "stdout",
          "text": [
            "[(1, 'James', 'f@gmail.com', 25, 'hombre', 'USA', None), (2, 'Leila', 'a@gmail.com', 32, 'mujer', 'France', None), (3, 'Brigitte', 'j@gmail.com', 35, 'mujer', 'England', None), (4, 'Mike', 'c@gmail.com', 40, 'hombre', 'Denmark', None), (5, 'Elizabeth', 'e@gmail.com', 21, 'mujer', 'Canada', None)]\n"
          ]
        }
      ]
    },
    {
      "cell_type": "markdown",
      "source": [
        "#DROP/TRUNCATE (Eliminación de tablas)"
      ],
      "metadata": {
        "id": "ZN2HY2IzHKGP"
      }
    },
    {
      "cell_type": "code",
      "source": [
        "eliminar_tabla_comentarios = \"\"\"DROP TABLE gustos\"\"\"\n",
        "execute_query(sql,eliminar_tabla_comentarios)"
      ],
      "metadata": {
        "colab": {
          "base_uri": "https://localhost:8080/"
        },
        "id": "UtzDDRhRGYqE",
        "outputId": "4a97c5d2-8af4-42cc-db34-505b2476b32a"
      },
      "execution_count": 16,
      "outputs": [
        {
          "output_type": "stream",
          "name": "stdout",
          "text": [
            "Query executed successfully\n"
          ]
        }
      ]
    },
    {
      "cell_type": "code",
      "source": [
        "cursor.execute(\"SELECT name FROM sqlite_master WHERE type='table';\")\n",
        "print(cursor.fetchall())"
      ],
      "metadata": {
        "colab": {
          "base_uri": "https://localhost:8080/"
        },
        "id": "UTMZocQFHcE0",
        "outputId": "27a33a08-5121-44a6-e731-27aa9ee98008"
      },
      "execution_count": 17,
      "outputs": [
        {
          "output_type": "stream",
          "name": "stdout",
          "text": [
            "[('users',), ('sqlite_sequence',), ('posts',), ('comments',), ('likes',), ('usuarios',), ('posteos',), ('comentarios',)]\n"
          ]
        }
      ]
    },
    {
      "cell_type": "markdown",
      "source": [
        "#DELETE (Eliminación de registros)"
      ],
      "metadata": {
        "id": "9pQorRN2Hky7"
      }
    },
    {
      "cell_type": "code",
      "source": [
        "delete_tabla_de_usuarios = \"\"\" DELETE FROM usuarios WHERE id_usuario = 2;\"\"\"\n",
        "execute_query(sql,delete_tabla_de_usuarios)"
      ],
      "metadata": {
        "colab": {
          "base_uri": "https://localhost:8080/"
        },
        "id": "u4AxQ5CwHkZc",
        "outputId": "ff7ecad9-b837-40ad-e9fa-fb18af61a726"
      },
      "execution_count": 18,
      "outputs": [
        {
          "output_type": "stream",
          "name": "stdout",
          "text": [
            "Query executed successfully\n"
          ]
        }
      ]
    },
    {
      "cell_type": "code",
      "source": [
        "cursor.execute(\"SELECT * FROM usuarios\")\n",
        "print(cursor.fetchall())"
      ],
      "metadata": {
        "colab": {
          "base_uri": "https://localhost:8080/"
        },
        "id": "yn1w99IaIGNl",
        "outputId": "d2742bae-b9d3-407a-b254-a8e49faa4778"
      },
      "execution_count": 19,
      "outputs": [
        {
          "output_type": "stream",
          "name": "stdout",
          "text": [
            "[(1, 'James', 'f@gmail.com', 25, 'hombre', 'USA', None), (3, 'Brigitte', 'j@gmail.com', 35, 'mujer', 'England', None), (4, 'Mike', 'c@gmail.com', 40, 'hombre', 'Denmark', None), (5, 'Elizabeth', 'e@gmail.com', 21, 'mujer', 'Canada', None)]\n"
          ]
        }
      ]
    },
    {
      "cell_type": "code",
      "source": [
        "delete_tabla_de_usuarios = \"\"\" DELETE FROM usuarios ;\"\"\"\n",
        "execute_query(sql,delete_tabla_de_usuarios)"
      ],
      "metadata": {
        "colab": {
          "base_uri": "https://localhost:8080/"
        },
        "id": "CMfMbvXFIOYt",
        "outputId": "6a42e187-5283-4812-db95-128785edc94c"
      },
      "execution_count": 20,
      "outputs": [
        {
          "output_type": "stream",
          "name": "stdout",
          "text": [
            "Query executed successfully\n"
          ]
        }
      ]
    },
    {
      "cell_type": "markdown",
      "source": [
        "#UPDATE(Actualizar datos de un registro)"
      ],
      "metadata": {
        "id": "ZKZSUzqwIcUy"
      }
    },
    {
      "cell_type": "code",
      "source": [
        "#Pragma_table muestra los atributos\n",
        "cursor.execute(\"SELECT * FROM pragma_table_info('users');\")\n",
        "print(cursor.fetchall())"
      ],
      "metadata": {
        "colab": {
          "base_uri": "https://localhost:8080/"
        },
        "id": "WTHLXG_LOkkm",
        "outputId": "21f0ed28-6ce6-438a-863f-b1824584633f"
      },
      "execution_count": 21,
      "outputs": [
        {
          "output_type": "stream",
          "name": "stdout",
          "text": [
            "[(0, 'id', 'INTEGER', 0, None, 1), (1, 'name', 'TEXT', 1, None, 0), (2, 'age', 'INTEGER', 0, None, 0), (3, 'gender', 'TEXT', 0, None, 0), (4, 'nationality', 'TEXT', 0, None, 0)]\n"
          ]
        }
      ]
    },
    {
      "cell_type": "code",
      "source": [
        "actualizacion_de_datos = \"\"\"\n",
        "UPDATE users\n",
        "SET name = 'German', age = 24, gender = 'hombre'\n",
        "WHERE id = 1;\n",
        "\"\"\"\n",
        "execute_query(sql,actualizacion_de_datos)"
      ],
      "metadata": {
        "colab": {
          "base_uri": "https://localhost:8080/"
        },
        "id": "Klx66bmUIWmY",
        "outputId": "1a7f48c2-5e86-4aeb-9cb3-032f9fb2e4d5"
      },
      "execution_count": 22,
      "outputs": [
        {
          "output_type": "stream",
          "name": "stdout",
          "text": [
            "Query executed successfully\n"
          ]
        }
      ]
    },
    {
      "cell_type": "code",
      "source": [
        "cursor.execute(\"SELECT * FROM users\")\n",
        "print(cursor.fetchall())"
      ],
      "metadata": {
        "colab": {
          "base_uri": "https://localhost:8080/"
        },
        "id": "q2FNj_fSPUWM",
        "outputId": "06ce6872-3053-40a4-c192-5b27ef140659"
      },
      "execution_count": 23,
      "outputs": [
        {
          "output_type": "stream",
          "name": "stdout",
          "text": [
            "[(1, 'German', 24, 'hombre', 'USA'), (2, 'Leila', 32, 'mujer', 'France'), (3, 'Brigitte', 35, 'mujer', 'England'), (4, 'Mike', 40, 'hombre', 'Denmark'), (5, 'Elizabeth', 21, 'mujer', 'Canada'), (6, 'James', 25, 'hombre', 'USA'), (7, 'Leila', 32, 'mujer', 'France'), (8, 'Brigitte', 35, 'mujer', 'England'), (9, 'Mike', 40, 'hombre', 'Denmark'), (10, 'Elizabeth', 21, 'mujer', 'Canada')]\n"
          ]
        }
      ]
    },
    {
      "cell_type": "markdown",
      "source": [
        "#SELECT(Selección de Tablas, Bases)"
      ],
      "metadata": {
        "id": "vCSEIYH8PkR6"
      }
    },
    {
      "cell_type": "code",
      "source": [
        "#Consulta de Tablas\n",
        "cursor.execute(\"SELECT name from sqlite_master where type='table';\")\n",
        "print(cursor.fetchall())"
      ],
      "metadata": {
        "colab": {
          "base_uri": "https://localhost:8080/"
        },
        "id": "P1tLLMR7PWpa",
        "outputId": "72fbb9c4-6be5-41cb-ac0e-d6eae89a95b2"
      },
      "execution_count": 24,
      "outputs": [
        {
          "output_type": "stream",
          "name": "stdout",
          "text": [
            "[('users',), ('sqlite_sequence',), ('posts',), ('comments',), ('likes',), ('usuarios',), ('posteos',), ('comentarios',)]\n"
          ]
        }
      ]
    },
    {
      "cell_type": "code",
      "source": [
        "query = \"select * from users\"\n",
        "cursor.execute(query)\n",
        "print(cursor.fetchall())"
      ],
      "metadata": {
        "colab": {
          "base_uri": "https://localhost:8080/"
        },
        "id": "crqCjjhmPyn2",
        "outputId": "1a9d5e06-8968-4178-965b-68ca677b4bc3"
      },
      "execution_count": 25,
      "outputs": [
        {
          "output_type": "stream",
          "name": "stdout",
          "text": [
            "[(1, 'German', 24, 'hombre', 'USA'), (2, 'Leila', 32, 'mujer', 'France'), (3, 'Brigitte', 35, 'mujer', 'England'), (4, 'Mike', 40, 'hombre', 'Denmark'), (5, 'Elizabeth', 21, 'mujer', 'Canada'), (6, 'James', 25, 'hombre', 'USA'), (7, 'Leila', 32, 'mujer', 'France'), (8, 'Brigitte', 35, 'mujer', 'England'), (9, 'Mike', 40, 'hombre', 'Denmark'), (10, 'Elizabeth', 21, 'mujer', 'Canada')]\n"
          ]
        }
      ]
    },
    {
      "cell_type": "markdown",
      "source": [
        "#Generar DataFrame en Pandas"
      ],
      "metadata": {
        "id": "dV93gwv8P3_5"
      }
    },
    {
      "cell_type": "code",
      "source": [
        "#Generar una consulta en padas\n",
        "df = pd.read_sql_query(query,sql)"
      ],
      "metadata": {
        "id": "ZFRkTNBrP9WX"
      },
      "execution_count": 26,
      "outputs": []
    },
    {
      "cell_type": "code",
      "source": [
        "df"
      ],
      "metadata": {
        "colab": {
          "base_uri": "https://localhost:8080/",
          "height": 363
        },
        "id": "6kIPpzg5QP7P",
        "outputId": "d77d4f14-81ac-47e3-88ae-1d76993b090d"
      },
      "execution_count": 27,
      "outputs": [
        {
          "output_type": "execute_result",
          "data": {
            "text/plain": [
              "   id       name  age  gender nationality\n",
              "0   1     German   24  hombre         USA\n",
              "1   2      Leila   32   mujer      France\n",
              "2   3   Brigitte   35   mujer     England\n",
              "3   4       Mike   40  hombre     Denmark\n",
              "4   5  Elizabeth   21   mujer      Canada\n",
              "5   6      James   25  hombre         USA\n",
              "6   7      Leila   32   mujer      France\n",
              "7   8   Brigitte   35   mujer     England\n",
              "8   9       Mike   40  hombre     Denmark\n",
              "9  10  Elizabeth   21   mujer      Canada"
            ],
            "text/html": [
              "\n",
              "  <div id=\"df-c6ebe9e1-d6e6-4a74-9227-8f5a82ca0a30\" class=\"colab-df-container\">\n",
              "    <div>\n",
              "<style scoped>\n",
              "    .dataframe tbody tr th:only-of-type {\n",
              "        vertical-align: middle;\n",
              "    }\n",
              "\n",
              "    .dataframe tbody tr th {\n",
              "        vertical-align: top;\n",
              "    }\n",
              "\n",
              "    .dataframe thead th {\n",
              "        text-align: right;\n",
              "    }\n",
              "</style>\n",
              "<table border=\"1\" class=\"dataframe\">\n",
              "  <thead>\n",
              "    <tr style=\"text-align: right;\">\n",
              "      <th></th>\n",
              "      <th>id</th>\n",
              "      <th>name</th>\n",
              "      <th>age</th>\n",
              "      <th>gender</th>\n",
              "      <th>nationality</th>\n",
              "    </tr>\n",
              "  </thead>\n",
              "  <tbody>\n",
              "    <tr>\n",
              "      <th>0</th>\n",
              "      <td>1</td>\n",
              "      <td>German</td>\n",
              "      <td>24</td>\n",
              "      <td>hombre</td>\n",
              "      <td>USA</td>\n",
              "    </tr>\n",
              "    <tr>\n",
              "      <th>1</th>\n",
              "      <td>2</td>\n",
              "      <td>Leila</td>\n",
              "      <td>32</td>\n",
              "      <td>mujer</td>\n",
              "      <td>France</td>\n",
              "    </tr>\n",
              "    <tr>\n",
              "      <th>2</th>\n",
              "      <td>3</td>\n",
              "      <td>Brigitte</td>\n",
              "      <td>35</td>\n",
              "      <td>mujer</td>\n",
              "      <td>England</td>\n",
              "    </tr>\n",
              "    <tr>\n",
              "      <th>3</th>\n",
              "      <td>4</td>\n",
              "      <td>Mike</td>\n",
              "      <td>40</td>\n",
              "      <td>hombre</td>\n",
              "      <td>Denmark</td>\n",
              "    </tr>\n",
              "    <tr>\n",
              "      <th>4</th>\n",
              "      <td>5</td>\n",
              "      <td>Elizabeth</td>\n",
              "      <td>21</td>\n",
              "      <td>mujer</td>\n",
              "      <td>Canada</td>\n",
              "    </tr>\n",
              "    <tr>\n",
              "      <th>5</th>\n",
              "      <td>6</td>\n",
              "      <td>James</td>\n",
              "      <td>25</td>\n",
              "      <td>hombre</td>\n",
              "      <td>USA</td>\n",
              "    </tr>\n",
              "    <tr>\n",
              "      <th>6</th>\n",
              "      <td>7</td>\n",
              "      <td>Leila</td>\n",
              "      <td>32</td>\n",
              "      <td>mujer</td>\n",
              "      <td>France</td>\n",
              "    </tr>\n",
              "    <tr>\n",
              "      <th>7</th>\n",
              "      <td>8</td>\n",
              "      <td>Brigitte</td>\n",
              "      <td>35</td>\n",
              "      <td>mujer</td>\n",
              "      <td>England</td>\n",
              "    </tr>\n",
              "    <tr>\n",
              "      <th>8</th>\n",
              "      <td>9</td>\n",
              "      <td>Mike</td>\n",
              "      <td>40</td>\n",
              "      <td>hombre</td>\n",
              "      <td>Denmark</td>\n",
              "    </tr>\n",
              "    <tr>\n",
              "      <th>9</th>\n",
              "      <td>10</td>\n",
              "      <td>Elizabeth</td>\n",
              "      <td>21</td>\n",
              "      <td>mujer</td>\n",
              "      <td>Canada</td>\n",
              "    </tr>\n",
              "  </tbody>\n",
              "</table>\n",
              "</div>\n",
              "    <div class=\"colab-df-buttons\">\n",
              "\n",
              "  <div class=\"colab-df-container\">\n",
              "    <button class=\"colab-df-convert\" onclick=\"convertToInteractive('df-c6ebe9e1-d6e6-4a74-9227-8f5a82ca0a30')\"\n",
              "            title=\"Convert this dataframe to an interactive table.\"\n",
              "            style=\"display:none;\">\n",
              "\n",
              "  <svg xmlns=\"http://www.w3.org/2000/svg\" height=\"24px\" viewBox=\"0 -960 960 960\">\n",
              "    <path d=\"M120-120v-720h720v720H120Zm60-500h600v-160H180v160Zm220 220h160v-160H400v160Zm0 220h160v-160H400v160ZM180-400h160v-160H180v160Zm440 0h160v-160H620v160ZM180-180h160v-160H180v160Zm440 0h160v-160H620v160Z\"/>\n",
              "  </svg>\n",
              "    </button>\n",
              "\n",
              "  <style>\n",
              "    .colab-df-container {\n",
              "      display:flex;\n",
              "      gap: 12px;\n",
              "    }\n",
              "\n",
              "    .colab-df-convert {\n",
              "      background-color: #E8F0FE;\n",
              "      border: none;\n",
              "      border-radius: 50%;\n",
              "      cursor: pointer;\n",
              "      display: none;\n",
              "      fill: #1967D2;\n",
              "      height: 32px;\n",
              "      padding: 0 0 0 0;\n",
              "      width: 32px;\n",
              "    }\n",
              "\n",
              "    .colab-df-convert:hover {\n",
              "      background-color: #E2EBFA;\n",
              "      box-shadow: 0px 1px 2px rgba(60, 64, 67, 0.3), 0px 1px 3px 1px rgba(60, 64, 67, 0.15);\n",
              "      fill: #174EA6;\n",
              "    }\n",
              "\n",
              "    .colab-df-buttons div {\n",
              "      margin-bottom: 4px;\n",
              "    }\n",
              "\n",
              "    [theme=dark] .colab-df-convert {\n",
              "      background-color: #3B4455;\n",
              "      fill: #D2E3FC;\n",
              "    }\n",
              "\n",
              "    [theme=dark] .colab-df-convert:hover {\n",
              "      background-color: #434B5C;\n",
              "      box-shadow: 0px 1px 3px 1px rgba(0, 0, 0, 0.15);\n",
              "      filter: drop-shadow(0px 1px 2px rgba(0, 0, 0, 0.3));\n",
              "      fill: #FFFFFF;\n",
              "    }\n",
              "  </style>\n",
              "\n",
              "    <script>\n",
              "      const buttonEl =\n",
              "        document.querySelector('#df-c6ebe9e1-d6e6-4a74-9227-8f5a82ca0a30 button.colab-df-convert');\n",
              "      buttonEl.style.display =\n",
              "        google.colab.kernel.accessAllowed ? 'block' : 'none';\n",
              "\n",
              "      async function convertToInteractive(key) {\n",
              "        const element = document.querySelector('#df-c6ebe9e1-d6e6-4a74-9227-8f5a82ca0a30');\n",
              "        const dataTable =\n",
              "          await google.colab.kernel.invokeFunction('convertToInteractive',\n",
              "                                                    [key], {});\n",
              "        if (!dataTable) return;\n",
              "\n",
              "        const docLinkHtml = 'Like what you see? Visit the ' +\n",
              "          '<a target=\"_blank\" href=https://colab.research.google.com/notebooks/data_table.ipynb>data table notebook</a>'\n",
              "          + ' to learn more about interactive tables.';\n",
              "        element.innerHTML = '';\n",
              "        dataTable['output_type'] = 'display_data';\n",
              "        await google.colab.output.renderOutput(dataTable, element);\n",
              "        const docLink = document.createElement('div');\n",
              "        docLink.innerHTML = docLinkHtml;\n",
              "        element.appendChild(docLink);\n",
              "      }\n",
              "    </script>\n",
              "  </div>\n",
              "\n",
              "\n",
              "    <div id=\"df-41b6ae68-5ce7-489a-9392-5ac0131447bf\">\n",
              "      <button class=\"colab-df-quickchart\" onclick=\"quickchart('df-41b6ae68-5ce7-489a-9392-5ac0131447bf')\"\n",
              "                title=\"Suggest charts\"\n",
              "                style=\"display:none;\">\n",
              "\n",
              "<svg xmlns=\"http://www.w3.org/2000/svg\" height=\"24px\"viewBox=\"0 0 24 24\"\n",
              "     width=\"24px\">\n",
              "    <g>\n",
              "        <path d=\"M19 3H5c-1.1 0-2 .9-2 2v14c0 1.1.9 2 2 2h14c1.1 0 2-.9 2-2V5c0-1.1-.9-2-2-2zM9 17H7v-7h2v7zm4 0h-2V7h2v10zm4 0h-2v-4h2v4z\"/>\n",
              "    </g>\n",
              "</svg>\n",
              "      </button>\n",
              "\n",
              "<style>\n",
              "  .colab-df-quickchart {\n",
              "      --bg-color: #E8F0FE;\n",
              "      --fill-color: #1967D2;\n",
              "      --hover-bg-color: #E2EBFA;\n",
              "      --hover-fill-color: #174EA6;\n",
              "      --disabled-fill-color: #AAA;\n",
              "      --disabled-bg-color: #DDD;\n",
              "  }\n",
              "\n",
              "  [theme=dark] .colab-df-quickchart {\n",
              "      --bg-color: #3B4455;\n",
              "      --fill-color: #D2E3FC;\n",
              "      --hover-bg-color: #434B5C;\n",
              "      --hover-fill-color: #FFFFFF;\n",
              "      --disabled-bg-color: #3B4455;\n",
              "      --disabled-fill-color: #666;\n",
              "  }\n",
              "\n",
              "  .colab-df-quickchart {\n",
              "    background-color: var(--bg-color);\n",
              "    border: none;\n",
              "    border-radius: 50%;\n",
              "    cursor: pointer;\n",
              "    display: none;\n",
              "    fill: var(--fill-color);\n",
              "    height: 32px;\n",
              "    padding: 0;\n",
              "    width: 32px;\n",
              "  }\n",
              "\n",
              "  .colab-df-quickchart:hover {\n",
              "    background-color: var(--hover-bg-color);\n",
              "    box-shadow: 0 1px 2px rgba(60, 64, 67, 0.3), 0 1px 3px 1px rgba(60, 64, 67, 0.15);\n",
              "    fill: var(--button-hover-fill-color);\n",
              "  }\n",
              "\n",
              "  .colab-df-quickchart-complete:disabled,\n",
              "  .colab-df-quickchart-complete:disabled:hover {\n",
              "    background-color: var(--disabled-bg-color);\n",
              "    fill: var(--disabled-fill-color);\n",
              "    box-shadow: none;\n",
              "  }\n",
              "\n",
              "  .colab-df-spinner {\n",
              "    border: 2px solid var(--fill-color);\n",
              "    border-color: transparent;\n",
              "    border-bottom-color: var(--fill-color);\n",
              "    animation:\n",
              "      spin 1s steps(1) infinite;\n",
              "  }\n",
              "\n",
              "  @keyframes spin {\n",
              "    0% {\n",
              "      border-color: transparent;\n",
              "      border-bottom-color: var(--fill-color);\n",
              "      border-left-color: var(--fill-color);\n",
              "    }\n",
              "    20% {\n",
              "      border-color: transparent;\n",
              "      border-left-color: var(--fill-color);\n",
              "      border-top-color: var(--fill-color);\n",
              "    }\n",
              "    30% {\n",
              "      border-color: transparent;\n",
              "      border-left-color: var(--fill-color);\n",
              "      border-top-color: var(--fill-color);\n",
              "      border-right-color: var(--fill-color);\n",
              "    }\n",
              "    40% {\n",
              "      border-color: transparent;\n",
              "      border-right-color: var(--fill-color);\n",
              "      border-top-color: var(--fill-color);\n",
              "    }\n",
              "    60% {\n",
              "      border-color: transparent;\n",
              "      border-right-color: var(--fill-color);\n",
              "    }\n",
              "    80% {\n",
              "      border-color: transparent;\n",
              "      border-right-color: var(--fill-color);\n",
              "      border-bottom-color: var(--fill-color);\n",
              "    }\n",
              "    90% {\n",
              "      border-color: transparent;\n",
              "      border-bottom-color: var(--fill-color);\n",
              "    }\n",
              "  }\n",
              "</style>\n",
              "\n",
              "      <script>\n",
              "        async function quickchart(key) {\n",
              "          const quickchartButtonEl =\n",
              "            document.querySelector('#' + key + ' button');\n",
              "          quickchartButtonEl.disabled = true;  // To prevent multiple clicks.\n",
              "          quickchartButtonEl.classList.add('colab-df-spinner');\n",
              "          try {\n",
              "            const charts = await google.colab.kernel.invokeFunction(\n",
              "                'suggestCharts', [key], {});\n",
              "          } catch (error) {\n",
              "            console.error('Error during call to suggestCharts:', error);\n",
              "          }\n",
              "          quickchartButtonEl.classList.remove('colab-df-spinner');\n",
              "          quickchartButtonEl.classList.add('colab-df-quickchart-complete');\n",
              "        }\n",
              "        (() => {\n",
              "          let quickchartButtonEl =\n",
              "            document.querySelector('#df-41b6ae68-5ce7-489a-9392-5ac0131447bf button');\n",
              "          quickchartButtonEl.style.display =\n",
              "            google.colab.kernel.accessAllowed ? 'block' : 'none';\n",
              "        })();\n",
              "      </script>\n",
              "    </div>\n",
              "\n",
              "  <div id=\"id_daabd5d9-d4af-4e30-8fd3-62efa160b6cf\">\n",
              "    <style>\n",
              "      .colab-df-generate {\n",
              "        background-color: #E8F0FE;\n",
              "        border: none;\n",
              "        border-radius: 50%;\n",
              "        cursor: pointer;\n",
              "        display: none;\n",
              "        fill: #1967D2;\n",
              "        height: 32px;\n",
              "        padding: 0 0 0 0;\n",
              "        width: 32px;\n",
              "      }\n",
              "\n",
              "      .colab-df-generate:hover {\n",
              "        background-color: #E2EBFA;\n",
              "        box-shadow: 0px 1px 2px rgba(60, 64, 67, 0.3), 0px 1px 3px 1px rgba(60, 64, 67, 0.15);\n",
              "        fill: #174EA6;\n",
              "      }\n",
              "\n",
              "      [theme=dark] .colab-df-generate {\n",
              "        background-color: #3B4455;\n",
              "        fill: #D2E3FC;\n",
              "      }\n",
              "\n",
              "      [theme=dark] .colab-df-generate:hover {\n",
              "        background-color: #434B5C;\n",
              "        box-shadow: 0px 1px 3px 1px rgba(0, 0, 0, 0.15);\n",
              "        filter: drop-shadow(0px 1px 2px rgba(0, 0, 0, 0.3));\n",
              "        fill: #FFFFFF;\n",
              "      }\n",
              "    </style>\n",
              "    <button class=\"colab-df-generate\" onclick=\"generateWithVariable('df')\"\n",
              "            title=\"Generate code using this dataframe.\"\n",
              "            style=\"display:none;\">\n",
              "\n",
              "  <svg xmlns=\"http://www.w3.org/2000/svg\" height=\"24px\"viewBox=\"0 0 24 24\"\n",
              "       width=\"24px\">\n",
              "    <path d=\"M7,19H8.4L18.45,9,17,7.55,7,17.6ZM5,21V16.75L18.45,3.32a2,2,0,0,1,2.83,0l1.4,1.43a1.91,1.91,0,0,1,.58,1.4,1.91,1.91,0,0,1-.58,1.4L9.25,21ZM18.45,9,17,7.55Zm-12,3A5.31,5.31,0,0,0,4.9,8.1,5.31,5.31,0,0,0,1,6.5,5.31,5.31,0,0,0,4.9,4.9,5.31,5.31,0,0,0,6.5,1,5.31,5.31,0,0,0,8.1,4.9,5.31,5.31,0,0,0,12,6.5,5.46,5.46,0,0,0,6.5,12Z\"/>\n",
              "  </svg>\n",
              "    </button>\n",
              "    <script>\n",
              "      (() => {\n",
              "      const buttonEl =\n",
              "        document.querySelector('#id_daabd5d9-d4af-4e30-8fd3-62efa160b6cf button.colab-df-generate');\n",
              "      buttonEl.style.display =\n",
              "        google.colab.kernel.accessAllowed ? 'block' : 'none';\n",
              "\n",
              "      buttonEl.onclick = () => {\n",
              "        google.colab.notebook.generateWithVariable('df');\n",
              "      }\n",
              "      })();\n",
              "    </script>\n",
              "  </div>\n",
              "\n",
              "    </div>\n",
              "  </div>\n"
            ],
            "application/vnd.google.colaboratory.intrinsic+json": {
              "type": "dataframe",
              "variable_name": "df",
              "summary": "{\n  \"name\": \"df\",\n  \"rows\": 10,\n  \"fields\": [\n    {\n      \"column\": \"id\",\n      \"properties\": {\n        \"dtype\": \"number\",\n        \"std\": 3,\n        \"min\": 1,\n        \"max\": 10,\n        \"num_unique_values\": 10,\n        \"samples\": [\n          9,\n          2,\n          6\n        ],\n        \"semantic_type\": \"\",\n        \"description\": \"\"\n      }\n    },\n    {\n      \"column\": \"name\",\n      \"properties\": {\n        \"dtype\": \"string\",\n        \"num_unique_values\": 6,\n        \"samples\": [\n          \"German\",\n          \"Leila\",\n          \"James\"\n        ],\n        \"semantic_type\": \"\",\n        \"description\": \"\"\n      }\n    },\n    {\n      \"column\": \"age\",\n      \"properties\": {\n        \"dtype\": \"number\",\n        \"std\": 7,\n        \"min\": 21,\n        \"max\": 40,\n        \"num_unique_values\": 6,\n        \"samples\": [\n          24,\n          32,\n          25\n        ],\n        \"semantic_type\": \"\",\n        \"description\": \"\"\n      }\n    },\n    {\n      \"column\": \"gender\",\n      \"properties\": {\n        \"dtype\": \"category\",\n        \"num_unique_values\": 2,\n        \"samples\": [\n          \"mujer\",\n          \"hombre\"\n        ],\n        \"semantic_type\": \"\",\n        \"description\": \"\"\n      }\n    },\n    {\n      \"column\": \"nationality\",\n      \"properties\": {\n        \"dtype\": \"string\",\n        \"num_unique_values\": 5,\n        \"samples\": [\n          \"France\",\n          \"Canada\"\n        ],\n        \"semantic_type\": \"\",\n        \"description\": \"\"\n      }\n    }\n  ]\n}"
            }
          },
          "metadata": {},
          "execution_count": 27
        }
      ]
    },
    {
      "cell_type": "code",
      "source": [
        "query = \"select * from posts\"\n",
        "cursor.execute(query)\n",
        "print(cursor.fetchall())"
      ],
      "metadata": {
        "colab": {
          "base_uri": "https://localhost:8080/"
        },
        "id": "y68IxM6wQwXE",
        "outputId": "c160491c-18e5-4cc6-a927-d138cae5b75f"
      },
      "execution_count": 28,
      "outputs": [
        {
          "output_type": "stream",
          "name": "stdout",
          "text": [
            "[(1, 'Feliz', 'Me siento feliz hoy', 1), (2, 'Caliente', 'El clima esta caliente hoy', 2), (3, 'Ayuda', 'Necesito ayuda en esto', 2), (4, 'Buenas noticias', 'Me casare pronto', 1), (5, 'Juego interesante', 'Fue genial jugar al tenis', 5), (6, 'Fiesta', 'Alguno quiere venir a esta fiesta hoy?', 3), (7, 'Feliz', 'Me siento feliz hoy', 1), (8, 'Caliente', 'El clima esta caliente hoy', 2), (9, 'Ayuda', 'Necesito ayuda en esto', 2), (10, 'Buenas noticias', 'Me casare pronto', 1), (11, 'Juego interesante', 'Fue genial jugar al tenis', 5), (12, 'Fiesta', 'Alguno quiere venir a esta fiesta hoy?', 3)]\n"
          ]
        }
      ]
    },
    {
      "cell_type": "code",
      "source": [
        "#Puedo pasar a DataFrame una Consulta de forma directa\n",
        "#Puede quedar una consulta pre armada e ir cargado por necesidad\n",
        "#De uso\n",
        "pd.read_sql_query(query,sql)"
      ],
      "metadata": {
        "colab": {
          "base_uri": "https://localhost:8080/",
          "height": 426
        },
        "id": "iuMSF0SnQYPe",
        "outputId": "dadadc4e-c275-4082-96fc-9f8d872466d9"
      },
      "execution_count": 29,
      "outputs": [
        {
          "output_type": "execute_result",
          "data": {
            "text/plain": [
              "    id              title                             description  user_id\n",
              "0    1              Feliz                     Me siento feliz hoy        1\n",
              "1    2           Caliente              El clima esta caliente hoy        2\n",
              "2    3              Ayuda                  Necesito ayuda en esto        2\n",
              "3    4    Buenas noticias                        Me casare pronto        1\n",
              "4    5  Juego interesante               Fue genial jugar al tenis        5\n",
              "5    6             Fiesta  Alguno quiere venir a esta fiesta hoy?        3\n",
              "6    7              Feliz                     Me siento feliz hoy        1\n",
              "7    8           Caliente              El clima esta caliente hoy        2\n",
              "8    9              Ayuda                  Necesito ayuda en esto        2\n",
              "9   10    Buenas noticias                        Me casare pronto        1\n",
              "10  11  Juego interesante               Fue genial jugar al tenis        5\n",
              "11  12             Fiesta  Alguno quiere venir a esta fiesta hoy?        3"
            ],
            "text/html": [
              "\n",
              "  <div id=\"df-9ddbb5ba-e08d-445c-979d-7a61c890956b\" class=\"colab-df-container\">\n",
              "    <div>\n",
              "<style scoped>\n",
              "    .dataframe tbody tr th:only-of-type {\n",
              "        vertical-align: middle;\n",
              "    }\n",
              "\n",
              "    .dataframe tbody tr th {\n",
              "        vertical-align: top;\n",
              "    }\n",
              "\n",
              "    .dataframe thead th {\n",
              "        text-align: right;\n",
              "    }\n",
              "</style>\n",
              "<table border=\"1\" class=\"dataframe\">\n",
              "  <thead>\n",
              "    <tr style=\"text-align: right;\">\n",
              "      <th></th>\n",
              "      <th>id</th>\n",
              "      <th>title</th>\n",
              "      <th>description</th>\n",
              "      <th>user_id</th>\n",
              "    </tr>\n",
              "  </thead>\n",
              "  <tbody>\n",
              "    <tr>\n",
              "      <th>0</th>\n",
              "      <td>1</td>\n",
              "      <td>Feliz</td>\n",
              "      <td>Me siento feliz hoy</td>\n",
              "      <td>1</td>\n",
              "    </tr>\n",
              "    <tr>\n",
              "      <th>1</th>\n",
              "      <td>2</td>\n",
              "      <td>Caliente</td>\n",
              "      <td>El clima esta caliente hoy</td>\n",
              "      <td>2</td>\n",
              "    </tr>\n",
              "    <tr>\n",
              "      <th>2</th>\n",
              "      <td>3</td>\n",
              "      <td>Ayuda</td>\n",
              "      <td>Necesito ayuda en esto</td>\n",
              "      <td>2</td>\n",
              "    </tr>\n",
              "    <tr>\n",
              "      <th>3</th>\n",
              "      <td>4</td>\n",
              "      <td>Buenas noticias</td>\n",
              "      <td>Me casare pronto</td>\n",
              "      <td>1</td>\n",
              "    </tr>\n",
              "    <tr>\n",
              "      <th>4</th>\n",
              "      <td>5</td>\n",
              "      <td>Juego interesante</td>\n",
              "      <td>Fue genial jugar al tenis</td>\n",
              "      <td>5</td>\n",
              "    </tr>\n",
              "    <tr>\n",
              "      <th>5</th>\n",
              "      <td>6</td>\n",
              "      <td>Fiesta</td>\n",
              "      <td>Alguno quiere venir a esta fiesta hoy?</td>\n",
              "      <td>3</td>\n",
              "    </tr>\n",
              "    <tr>\n",
              "      <th>6</th>\n",
              "      <td>7</td>\n",
              "      <td>Feliz</td>\n",
              "      <td>Me siento feliz hoy</td>\n",
              "      <td>1</td>\n",
              "    </tr>\n",
              "    <tr>\n",
              "      <th>7</th>\n",
              "      <td>8</td>\n",
              "      <td>Caliente</td>\n",
              "      <td>El clima esta caliente hoy</td>\n",
              "      <td>2</td>\n",
              "    </tr>\n",
              "    <tr>\n",
              "      <th>8</th>\n",
              "      <td>9</td>\n",
              "      <td>Ayuda</td>\n",
              "      <td>Necesito ayuda en esto</td>\n",
              "      <td>2</td>\n",
              "    </tr>\n",
              "    <tr>\n",
              "      <th>9</th>\n",
              "      <td>10</td>\n",
              "      <td>Buenas noticias</td>\n",
              "      <td>Me casare pronto</td>\n",
              "      <td>1</td>\n",
              "    </tr>\n",
              "    <tr>\n",
              "      <th>10</th>\n",
              "      <td>11</td>\n",
              "      <td>Juego interesante</td>\n",
              "      <td>Fue genial jugar al tenis</td>\n",
              "      <td>5</td>\n",
              "    </tr>\n",
              "    <tr>\n",
              "      <th>11</th>\n",
              "      <td>12</td>\n",
              "      <td>Fiesta</td>\n",
              "      <td>Alguno quiere venir a esta fiesta hoy?</td>\n",
              "      <td>3</td>\n",
              "    </tr>\n",
              "  </tbody>\n",
              "</table>\n",
              "</div>\n",
              "    <div class=\"colab-df-buttons\">\n",
              "\n",
              "  <div class=\"colab-df-container\">\n",
              "    <button class=\"colab-df-convert\" onclick=\"convertToInteractive('df-9ddbb5ba-e08d-445c-979d-7a61c890956b')\"\n",
              "            title=\"Convert this dataframe to an interactive table.\"\n",
              "            style=\"display:none;\">\n",
              "\n",
              "  <svg xmlns=\"http://www.w3.org/2000/svg\" height=\"24px\" viewBox=\"0 -960 960 960\">\n",
              "    <path d=\"M120-120v-720h720v720H120Zm60-500h600v-160H180v160Zm220 220h160v-160H400v160Zm0 220h160v-160H400v160ZM180-400h160v-160H180v160Zm440 0h160v-160H620v160ZM180-180h160v-160H180v160Zm440 0h160v-160H620v160Z\"/>\n",
              "  </svg>\n",
              "    </button>\n",
              "\n",
              "  <style>\n",
              "    .colab-df-container {\n",
              "      display:flex;\n",
              "      gap: 12px;\n",
              "    }\n",
              "\n",
              "    .colab-df-convert {\n",
              "      background-color: #E8F0FE;\n",
              "      border: none;\n",
              "      border-radius: 50%;\n",
              "      cursor: pointer;\n",
              "      display: none;\n",
              "      fill: #1967D2;\n",
              "      height: 32px;\n",
              "      padding: 0 0 0 0;\n",
              "      width: 32px;\n",
              "    }\n",
              "\n",
              "    .colab-df-convert:hover {\n",
              "      background-color: #E2EBFA;\n",
              "      box-shadow: 0px 1px 2px rgba(60, 64, 67, 0.3), 0px 1px 3px 1px rgba(60, 64, 67, 0.15);\n",
              "      fill: #174EA6;\n",
              "    }\n",
              "\n",
              "    .colab-df-buttons div {\n",
              "      margin-bottom: 4px;\n",
              "    }\n",
              "\n",
              "    [theme=dark] .colab-df-convert {\n",
              "      background-color: #3B4455;\n",
              "      fill: #D2E3FC;\n",
              "    }\n",
              "\n",
              "    [theme=dark] .colab-df-convert:hover {\n",
              "      background-color: #434B5C;\n",
              "      box-shadow: 0px 1px 3px 1px rgba(0, 0, 0, 0.15);\n",
              "      filter: drop-shadow(0px 1px 2px rgba(0, 0, 0, 0.3));\n",
              "      fill: #FFFFFF;\n",
              "    }\n",
              "  </style>\n",
              "\n",
              "    <script>\n",
              "      const buttonEl =\n",
              "        document.querySelector('#df-9ddbb5ba-e08d-445c-979d-7a61c890956b button.colab-df-convert');\n",
              "      buttonEl.style.display =\n",
              "        google.colab.kernel.accessAllowed ? 'block' : 'none';\n",
              "\n",
              "      async function convertToInteractive(key) {\n",
              "        const element = document.querySelector('#df-9ddbb5ba-e08d-445c-979d-7a61c890956b');\n",
              "        const dataTable =\n",
              "          await google.colab.kernel.invokeFunction('convertToInteractive',\n",
              "                                                    [key], {});\n",
              "        if (!dataTable) return;\n",
              "\n",
              "        const docLinkHtml = 'Like what you see? Visit the ' +\n",
              "          '<a target=\"_blank\" href=https://colab.research.google.com/notebooks/data_table.ipynb>data table notebook</a>'\n",
              "          + ' to learn more about interactive tables.';\n",
              "        element.innerHTML = '';\n",
              "        dataTable['output_type'] = 'display_data';\n",
              "        await google.colab.output.renderOutput(dataTable, element);\n",
              "        const docLink = document.createElement('div');\n",
              "        docLink.innerHTML = docLinkHtml;\n",
              "        element.appendChild(docLink);\n",
              "      }\n",
              "    </script>\n",
              "  </div>\n",
              "\n",
              "\n",
              "    <div id=\"df-26609430-cafd-4218-97e0-d7d39f3ce5e3\">\n",
              "      <button class=\"colab-df-quickchart\" onclick=\"quickchart('df-26609430-cafd-4218-97e0-d7d39f3ce5e3')\"\n",
              "                title=\"Suggest charts\"\n",
              "                style=\"display:none;\">\n",
              "\n",
              "<svg xmlns=\"http://www.w3.org/2000/svg\" height=\"24px\"viewBox=\"0 0 24 24\"\n",
              "     width=\"24px\">\n",
              "    <g>\n",
              "        <path d=\"M19 3H5c-1.1 0-2 .9-2 2v14c0 1.1.9 2 2 2h14c1.1 0 2-.9 2-2V5c0-1.1-.9-2-2-2zM9 17H7v-7h2v7zm4 0h-2V7h2v10zm4 0h-2v-4h2v4z\"/>\n",
              "    </g>\n",
              "</svg>\n",
              "      </button>\n",
              "\n",
              "<style>\n",
              "  .colab-df-quickchart {\n",
              "      --bg-color: #E8F0FE;\n",
              "      --fill-color: #1967D2;\n",
              "      --hover-bg-color: #E2EBFA;\n",
              "      --hover-fill-color: #174EA6;\n",
              "      --disabled-fill-color: #AAA;\n",
              "      --disabled-bg-color: #DDD;\n",
              "  }\n",
              "\n",
              "  [theme=dark] .colab-df-quickchart {\n",
              "      --bg-color: #3B4455;\n",
              "      --fill-color: #D2E3FC;\n",
              "      --hover-bg-color: #434B5C;\n",
              "      --hover-fill-color: #FFFFFF;\n",
              "      --disabled-bg-color: #3B4455;\n",
              "      --disabled-fill-color: #666;\n",
              "  }\n",
              "\n",
              "  .colab-df-quickchart {\n",
              "    background-color: var(--bg-color);\n",
              "    border: none;\n",
              "    border-radius: 50%;\n",
              "    cursor: pointer;\n",
              "    display: none;\n",
              "    fill: var(--fill-color);\n",
              "    height: 32px;\n",
              "    padding: 0;\n",
              "    width: 32px;\n",
              "  }\n",
              "\n",
              "  .colab-df-quickchart:hover {\n",
              "    background-color: var(--hover-bg-color);\n",
              "    box-shadow: 0 1px 2px rgba(60, 64, 67, 0.3), 0 1px 3px 1px rgba(60, 64, 67, 0.15);\n",
              "    fill: var(--button-hover-fill-color);\n",
              "  }\n",
              "\n",
              "  .colab-df-quickchart-complete:disabled,\n",
              "  .colab-df-quickchart-complete:disabled:hover {\n",
              "    background-color: var(--disabled-bg-color);\n",
              "    fill: var(--disabled-fill-color);\n",
              "    box-shadow: none;\n",
              "  }\n",
              "\n",
              "  .colab-df-spinner {\n",
              "    border: 2px solid var(--fill-color);\n",
              "    border-color: transparent;\n",
              "    border-bottom-color: var(--fill-color);\n",
              "    animation:\n",
              "      spin 1s steps(1) infinite;\n",
              "  }\n",
              "\n",
              "  @keyframes spin {\n",
              "    0% {\n",
              "      border-color: transparent;\n",
              "      border-bottom-color: var(--fill-color);\n",
              "      border-left-color: var(--fill-color);\n",
              "    }\n",
              "    20% {\n",
              "      border-color: transparent;\n",
              "      border-left-color: var(--fill-color);\n",
              "      border-top-color: var(--fill-color);\n",
              "    }\n",
              "    30% {\n",
              "      border-color: transparent;\n",
              "      border-left-color: var(--fill-color);\n",
              "      border-top-color: var(--fill-color);\n",
              "      border-right-color: var(--fill-color);\n",
              "    }\n",
              "    40% {\n",
              "      border-color: transparent;\n",
              "      border-right-color: var(--fill-color);\n",
              "      border-top-color: var(--fill-color);\n",
              "    }\n",
              "    60% {\n",
              "      border-color: transparent;\n",
              "      border-right-color: var(--fill-color);\n",
              "    }\n",
              "    80% {\n",
              "      border-color: transparent;\n",
              "      border-right-color: var(--fill-color);\n",
              "      border-bottom-color: var(--fill-color);\n",
              "    }\n",
              "    90% {\n",
              "      border-color: transparent;\n",
              "      border-bottom-color: var(--fill-color);\n",
              "    }\n",
              "  }\n",
              "</style>\n",
              "\n",
              "      <script>\n",
              "        async function quickchart(key) {\n",
              "          const quickchartButtonEl =\n",
              "            document.querySelector('#' + key + ' button');\n",
              "          quickchartButtonEl.disabled = true;  // To prevent multiple clicks.\n",
              "          quickchartButtonEl.classList.add('colab-df-spinner');\n",
              "          try {\n",
              "            const charts = await google.colab.kernel.invokeFunction(\n",
              "                'suggestCharts', [key], {});\n",
              "          } catch (error) {\n",
              "            console.error('Error during call to suggestCharts:', error);\n",
              "          }\n",
              "          quickchartButtonEl.classList.remove('colab-df-spinner');\n",
              "          quickchartButtonEl.classList.add('colab-df-quickchart-complete');\n",
              "        }\n",
              "        (() => {\n",
              "          let quickchartButtonEl =\n",
              "            document.querySelector('#df-26609430-cafd-4218-97e0-d7d39f3ce5e3 button');\n",
              "          quickchartButtonEl.style.display =\n",
              "            google.colab.kernel.accessAllowed ? 'block' : 'none';\n",
              "        })();\n",
              "      </script>\n",
              "    </div>\n",
              "\n",
              "    </div>\n",
              "  </div>\n"
            ],
            "application/vnd.google.colaboratory.intrinsic+json": {
              "type": "dataframe",
              "summary": "{\n  \"name\": \"pd\",\n  \"rows\": 12,\n  \"fields\": [\n    {\n      \"column\": \"id\",\n      \"properties\": {\n        \"dtype\": \"number\",\n        \"std\": 3,\n        \"min\": 1,\n        \"max\": 12,\n        \"num_unique_values\": 12,\n        \"samples\": [\n          11,\n          10,\n          1\n        ],\n        \"semantic_type\": \"\",\n        \"description\": \"\"\n      }\n    },\n    {\n      \"column\": \"title\",\n      \"properties\": {\n        \"dtype\": \"string\",\n        \"num_unique_values\": 6,\n        \"samples\": [\n          \"Feliz\",\n          \"Caliente\",\n          \"Fiesta\"\n        ],\n        \"semantic_type\": \"\",\n        \"description\": \"\"\n      }\n    },\n    {\n      \"column\": \"description\",\n      \"properties\": {\n        \"dtype\": \"string\",\n        \"num_unique_values\": 6,\n        \"samples\": [\n          \"Me siento feliz hoy\",\n          \"El clima esta caliente hoy\",\n          \"Alguno quiere venir a esta fiesta hoy?\"\n        ],\n        \"semantic_type\": \"\",\n        \"description\": \"\"\n      }\n    },\n    {\n      \"column\": \"user_id\",\n      \"properties\": {\n        \"dtype\": \"number\",\n        \"std\": 1,\n        \"min\": 1,\n        \"max\": 5,\n        \"num_unique_values\": 4,\n        \"samples\": [\n          2,\n          3,\n          1\n        ],\n        \"semantic_type\": \"\",\n        \"description\": \"\"\n      }\n    }\n  ]\n}"
            }
          },
          "metadata": {},
          "execution_count": 29
        }
      ]
    },
    {
      "cell_type": "code",
      "source": [
        "#Exportamos a un archivo csv/excel\n",
        "pd.read_sql_query(query,sql).to_csv('comments.csv')"
      ],
      "metadata": {
        "id": "H6hHAzlqRL2P"
      },
      "execution_count": 30,
      "outputs": []
    }
  ]
}