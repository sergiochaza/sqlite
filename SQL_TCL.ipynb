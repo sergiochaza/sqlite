{
  "nbformat": 4,
  "nbformat_minor": 0,
  "metadata": {
    "colab": {
      "provenance": [],
      "authorship_tag": "ABX9TyP7VanGkfUBPQQZn+UdrU6/",
      "include_colab_link": true
    },
    "kernelspec": {
      "name": "python3",
      "display_name": "Python 3"
    },
    "language_info": {
      "name": "python"
    }
  },
  "cells": [
    {
      "cell_type": "markdown",
      "metadata": {
        "id": "view-in-github",
        "colab_type": "text"
      },
      "source": [
        "<a href=\"https://colab.research.google.com/github/sergiochaza/sqlite/blob/main/SQL_TCL.ipynb\" target=\"_parent\"><img src=\"https://colab.research.google.com/assets/colab-badge.svg\" alt=\"Open In Colab\"/></a>"
      ]
    },
    {
      "cell_type": "code",
      "execution_count": 1,
      "metadata": {
        "id": "06Bpq9NyThVw"
      },
      "outputs": [],
      "source": [
        "import sqlite3\n",
        "import pandas as pd"
      ]
    },
    {
      "cell_type": "code",
      "source": [
        "#Conectar a una base de datos en memoria\n",
        "conn = sqlite3.connect(':memory:')\n",
        "cursor = conn.cursor()\n",
        "\n",
        "#Crear la tabla de cuentas\n",
        "cursor.execute('''\n",
        "    CREATE TABLE cuentas (\n",
        "        id INTEGER PRIMARY KEY,\n",
        "        nombre TEXT NOT NULL,\n",
        "        saldo REAL NOR NULL\n",
        "    )\n",
        "''')"
      ],
      "metadata": {
        "colab": {
          "base_uri": "https://localhost:8080/"
        },
        "id": "DpWKcb2BTnFs",
        "outputId": "e0af5019-5df2-4dba-c19b-a3e9d602f989"
      },
      "execution_count": 2,
      "outputs": [
        {
          "output_type": "execute_result",
          "data": {
            "text/plain": [
              "<sqlite3.Cursor at 0x7dfbdbac7540>"
            ]
          },
          "metadata": {},
          "execution_count": 2
        }
      ]
    },
    {
      "cell_type": "code",
      "source": [
        "cursor = conn.cursor()\n",
        "cursor.execute(\"SELECT name FROM sqlite_master WHERE type='table';\")\n",
        "print(cursor.fetchall())"
      ],
      "metadata": {
        "colab": {
          "base_uri": "https://localhost:8080/"
        },
        "id": "hg_LLHwUUI8i",
        "outputId": "013485f2-84a9-4efb-c149-594f0cd3e125"
      },
      "execution_count": 3,
      "outputs": [
        {
          "output_type": "stream",
          "name": "stdout",
          "text": [
            "[('cuentas',)]\n"
          ]
        }
      ]
    },
    {
      "cell_type": "code",
      "source": [
        "def transferir_dinero(origen,destino,monto):\n",
        "\n",
        "    #procedimiento para transferir dinero entre cuentas.\n",
        "    #utiliza TCL: BEGIN TRANSACTION, COMMIT, ROLLBACK\n",
        "\n",
        "    try:\n",
        "      #Iniciar la transacción\n",
        "      cursor.execute(\"BEGIN TRANSACTION;\")\n",
        "\n",
        "\n",
        "      #Verificar saldo suficiente\n",
        "      cursor.execute(\"SELECT saldo FROM cuentas WHERE id=?\",(origen,))\n",
        "      saldo_origen = cursor.fetchone()[0]\n",
        "\n",
        "      if saldo_origen < monto:\n",
        "        raise Exception(\"Saldo insuficiente\")\n",
        "\n",
        "      #Restar saldo de la cuenta de origen\n",
        "      cursor.execute(\"UPDATE cuentas SET saldo = saldo - ? WHERE id = ?\",(monto,origen))\n",
        "\n",
        "\n",
        "      #Sumar saldo a la cuenta de destino\n",
        "      cursor.execute(\"UPDATE cuentas SET saldo = saldo + ? WHERE id =?\", (monto,destino))\n",
        "\n",
        "\n",
        "      #Confirmar la transaccion\n",
        "      conn.commit()\n",
        "      print(f\"Transferencia de ${monto} completada con éxito\")\n",
        "\n",
        "\n",
        "    except Exception as e:\n",
        "      #Recertir la transacción en caso de error\n",
        "      conn.rollback()\n",
        "      print(f\"Error al realizar la transferencia: {e}\")\n",
        "\n"
      ],
      "metadata": {
        "id": "Gs4oQnKUUfl8"
      },
      "execution_count": 4,
      "outputs": []
    },
    {
      "cell_type": "code",
      "source": [
        "#Insertar cuentas de prueba\n",
        "cursor.executemany(\"\"\"\n",
        "  INSERT INTO cuentas (id,nombre,saldo) VALUES (?,?,?)\n",
        "  \"\"\", [(1,'Cuenta A', 1000.00), (2,'Cuenta B', 500.00)])\n",
        "conn.commit()"
      ],
      "metadata": {
        "id": "jGFz3lEZUtUC"
      },
      "execution_count": 5,
      "outputs": []
    },
    {
      "cell_type": "code",
      "source": [
        "#Consultar los saldos antes de la transacción\n",
        "cursor.execute(\"SELECT * FROM cuentas\")\n",
        "print(cursor.fetchall())"
      ],
      "metadata": {
        "colab": {
          "base_uri": "https://localhost:8080/"
        },
        "id": "oQVvTPyPW4rN",
        "outputId": "dd82b161-0a6d-4c0a-f0cb-94cdbd0b090d"
      },
      "execution_count": 6,
      "outputs": [
        {
          "output_type": "stream",
          "name": "stdout",
          "text": [
            "[(1, 'Cuenta A', 1000.0), (2, 'Cuenta B', 500.0)]\n"
          ]
        }
      ]
    },
    {
      "cell_type": "code",
      "source": [
        "#Prueba la transferencia\n",
        "transferir_dinero(1,2,300)"
      ],
      "metadata": {
        "colab": {
          "base_uri": "https://localhost:8080/"
        },
        "id": "2iuj0IWMXA_K",
        "outputId": "5c4746b0-77e5-4a2b-da9d-6f7afcf35542"
      },
      "execution_count": 7,
      "outputs": [
        {
          "output_type": "stream",
          "name": "stdout",
          "text": [
            "Transferencia de $300 completada con éxito\n"
          ]
        }
      ]
    },
    {
      "cell_type": "code",
      "source": [
        "#Consultar los saldos después de la transacción\n",
        "cursor.execute(\"SELECT * FROM cuentas\")\n",
        "print(cursor.fetchall())"
      ],
      "metadata": {
        "colab": {
          "base_uri": "https://localhost:8080/"
        },
        "id": "fA47gH6kYrYx",
        "outputId": "0d0bc965-6119-40c0-9ccb-26d51fc4ea90"
      },
      "execution_count": 8,
      "outputs": [
        {
          "output_type": "stream",
          "name": "stdout",
          "text": [
            "[(1, 'Cuenta A', 700.0), (2, 'Cuenta B', 800.0)]\n"
          ]
        }
      ]
    },
    {
      "cell_type": "code",
      "source": [
        "#Prueba la transferencia\n",
        "transferir_dinero(1,2,200)"
      ],
      "metadata": {
        "colab": {
          "base_uri": "https://localhost:8080/"
        },
        "id": "qivtVjrfYzgC",
        "outputId": "8ce2df25-09d6-4ae7-9514-9f2e86d9760f"
      },
      "execution_count": 9,
      "outputs": [
        {
          "output_type": "stream",
          "name": "stdout",
          "text": [
            "Transferencia de $200 completada con éxito\n"
          ]
        }
      ]
    },
    {
      "cell_type": "code",
      "source": [
        "#Consultar los saldos después de la transacción\n",
        "cursor.execute(\"SELECT * FROM cuentas\")\n",
        "print(cursor.fetchall())"
      ],
      "metadata": {
        "colab": {
          "base_uri": "https://localhost:8080/"
        },
        "id": "eY66Co8pY16W",
        "outputId": "fdc60324-2676-4d36-dc7d-b0aa3a594aac"
      },
      "execution_count": 10,
      "outputs": [
        {
          "output_type": "stream",
          "name": "stdout",
          "text": [
            "[(1, 'Cuenta A', 500.0), (2, 'Cuenta B', 1000.0)]\n"
          ]
        }
      ]
    },
    {
      "cell_type": "code",
      "source": [
        "#Cierro la conexión\n",
        "conn.close()"
      ],
      "metadata": {
        "id": "e8rvV8A3Y50G"
      },
      "execution_count": 11,
      "outputs": []
    }
  ]
}